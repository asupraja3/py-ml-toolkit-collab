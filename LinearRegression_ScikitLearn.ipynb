{
  "cells": [
    {
      "cell_type": "markdown",
      "metadata": {
        "id": "view-in-github",
        "colab_type": "text"
      },
      "source": [
        "<a href=\"https://colab.research.google.com/github/asupraja3/py-ml-toolkit-collab/blob/main/LinearRegression_ScikitLearn.ipynb\" target=\"_parent\"><img src=\"https://colab.research.google.com/assets/colab-badge.svg\" alt=\"Open In Colab\"/></a>"
      ]
    },
    {
      "cell_type": "markdown",
      "id": "7ef7fe48",
      "metadata": {
        "id": "7ef7fe48"
      },
      "source": [
        "\n",
        "# Optional Lab: Linear Regression using Scikit-Learn\n",
        "\n",
        "This lab demonstrates:\n",
        "- Using **scikit-learn** to implement Linear Regression and SGD-based regression\n",
        "- Scaling/normalizing features before training\n",
        "- Comparing model coefficients\n"
      ]
    },
    {
      "cell_type": "code",
      "execution_count": null,
      "id": "cbb7c0e1",
      "metadata": {
        "id": "cbb7c0e1"
      },
      "outputs": [],
      "source": [
        "\n",
        "import numpy as np\n",
        "import matplotlib.pyplot as plt\n",
        "from sklearn.linear_model import LinearRegression, SGDRegressor\n",
        "from sklearn.preprocessing import StandardScaler\n",
        "\n",
        "# For reproducibility\n",
        "np.set_printoptions(precision=2)\n"
      ]
    },
    {
      "cell_type": "markdown",
      "id": "3b424d65",
      "metadata": {
        "id": "3b424d65"
      },
      "source": [
        "## 1. Generate synthetic 'house' dataset"
      ]
    },
    {
      "cell_type": "code",
      "execution_count": null,
      "id": "2d2c6d61",
      "metadata": {
        "id": "2d2c6d61"
      },
      "outputs": [],
      "source": [
        "\n",
        "# Features: size(sqft), bedrooms, floors, age\n",
        "rng = np.random.default_rng(1)\n",
        "m = 200\n",
        "size = rng.uniform(500, 3500, m)\n",
        "bedrooms = rng.integers(1, 6, m)\n",
        "floors = rng.integers(1, 4, m)\n",
        "age = rng.uniform(0, 40, m)\n",
        "\n",
        "X_train = np.c_[size, bedrooms, floors, age].astype(float)\n",
        "true_w = np.array([250, 10_000, 5_000, -300])  # weights\n",
        "true_b = 50_000\n",
        "noise = rng.normal(0, 20_000, m)\n",
        "\n",
        "y_train = X_train @ true_w + true_b + noise\n",
        "\n",
        "X_features = [\"size(sqft)\", \"bedrooms\", \"floors\", \"age\"]\n"
      ]
    },
    {
      "cell_type": "markdown",
      "id": "524fbdea",
      "metadata": {
        "id": "524fbdea"
      },
      "source": [
        "## 2. Scale/normalize the training data"
      ]
    },
    {
      "cell_type": "code",
      "execution_count": null,
      "id": "be472c26",
      "metadata": {
        "id": "be472c26"
      },
      "outputs": [],
      "source": [
        "\n",
        "scaler = StandardScaler()\n",
        "X_norm = scaler.fit_transform(X_train)\n",
        "\n",
        "print(f\"Peak to Peak range by column in Raw X: {np.ptp(X_train, axis=0)}\")\n",
        "print(f\"Peak to Peak range by column in Normalized X: {np.ptp(X_norm, axis=0)}\")\n"
      ]
    },
    {
      "cell_type": "markdown",
      "id": "e0b4e2ef",
      "metadata": {
        "id": "e0b4e2ef"
      },
      "source": [
        "## 3. Linear Regression (Normal Equation)"
      ]
    },
    {
      "cell_type": "code",
      "execution_count": null,
      "id": "2dd1d161",
      "metadata": {
        "id": "2dd1d161"
      },
      "outputs": [],
      "source": [
        "\n",
        "lr = LinearRegression()\n",
        "lr.fit(X_norm, y_train)\n",
        "\n",
        "print(\"Intercept:\", lr.intercept_)\n",
        "print(\"Coefficients:\", lr.coef_)\n",
        "\n",
        "y_pred_lr = lr.predict(X_norm)\n",
        "\n",
        "plt.scatter(y_train, y_pred_lr, alpha=0.7)\n",
        "plt.xlabel(\"Actual Price\")\n",
        "plt.ylabel(\"Predicted Price\")\n",
        "plt.title(\"Linear Regression Predictions (scikit-learn)\")\n",
        "plt.grid(True, alpha=0.3)\n",
        "plt.show()\n"
      ]
    },
    {
      "cell_type": "markdown",
      "id": "70657a28",
      "metadata": {
        "id": "70657a28"
      },
      "source": [
        "## 4. Linear Regression using SGDRegressor (Gradient Descent)"
      ]
    },
    {
      "cell_type": "code",
      "execution_count": null,
      "id": "3fa77d02",
      "metadata": {
        "id": "3fa77d02"
      },
      "outputs": [],
      "source": [
        "\n",
        "sgdr = SGDRegressor(max_iter=1000, tol=1e-3, penalty=None, eta0=0.01, learning_rate='constant', random_state=1)\n",
        "sgdr.fit(X_norm, y_train)\n",
        "\n",
        "print(\"Intercept:\", sgdr.intercept_)\n",
        "print(\"Coefficients:\", sgdr.coef_)\n",
        "\n",
        "y_pred_sgd = sgdr.predict(X_norm)\n",
        "\n",
        "plt.scatter(y_train, y_pred_sgd, alpha=0.7, color='orange')\n",
        "plt.xlabel(\"Actual Price\")\n",
        "plt.ylabel(\"Predicted Price\")\n",
        "plt.title(\"SGD Regressor Predictions (scikit-learn)\")\n",
        "plt.grid(True, alpha=0.3)\n",
        "plt.show()\n"
      ]
    }
  ],
  "metadata": {
    "colab": {
      "provenance": [],
      "include_colab_link": true
    }
  },
  "nbformat": 4,
  "nbformat_minor": 5
}