{
  "nbformat": 4,
  "nbformat_minor": 0,
  "metadata": {
    "colab": {
      "provenance": [],
      "authorship_tag": "ABX9TyMwawbRZ6NiBL10/TXl52e+",
      "include_colab_link": true
    },
    "kernelspec": {
      "name": "python3",
      "display_name": "Python 3"
    },
    "language_info": {
      "name": "python"
    }
  },
  "cells": [
    {
      "cell_type": "markdown",
      "metadata": {
        "id": "view-in-github",
        "colab_type": "text"
      },
      "source": [
        "<a href=\"https://colab.research.google.com/github/asupraja3/py-ml-toolkit-collab/blob/main/pandas.ipynb\" target=\"_parent\"><img src=\"https://colab.research.google.com/assets/colab-badge.svg\" alt=\"Open In Colab\"/></a>"
      ]
    },
    {
      "cell_type": "markdown",
      "source": [
        "**Pandas is a powerful Python library used for data manipulation and analysis.**\n",
        "It provides high-performance data structures like:\n",
        "* Series – a one-dimensional labeled array\n",
        "* DataFrame – a two-dimensional labeled table (like an Excel sheet)\n",
        "\n",
        "**Key Features of Pandas:**\n",
        "* Reading/writing data from CSV, Excel, SQL, JSON\n",
        "* Filtering, grouping, and aggregating data\n",
        "* Handling missing values\n",
        "* Merging and joining datasets\n",
        "* Built-in functions for statistics and time-series analysis"
      ],
      "metadata": {
        "id": "pv_R1BMWTJLO"
      }
    },
    {
      "cell_type": "code",
      "execution_count": null,
      "metadata": {
        "id": "uePpEmo8ShbQ"
      },
      "outputs": [],
      "source": [
        "#Pandas Library:\n"
      ]
    }
  ]
}