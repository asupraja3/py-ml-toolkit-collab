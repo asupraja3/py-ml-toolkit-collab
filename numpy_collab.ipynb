{
  "nbformat": 4,
  "nbformat_minor": 0,
  "metadata": {
    "colab": {
      "provenance": [],
      "mount_file_id": "1j0gGz6fInTjkaI4-khrvN8sKWwK2P8Gv",
      "authorship_tag": "ABX9TyOwBedPMnSzZAY6Ob0yAQSG",
      "include_colab_link": true
    },
    "kernelspec": {
      "name": "python3",
      "display_name": "Python 3"
    },
    "language_info": {
      "name": "python"
    }
  },
  "cells": [
    {
      "cell_type": "markdown",
      "metadata": {
        "id": "view-in-github",
        "colab_type": "text"
      },
      "source": [
        "<a href=\"https://colab.research.google.com/github/asupraja3/py-ml-toolkit-collab/blob/main/numpy_collab.ipynb\" target=\"_parent\"><img src=\"https://colab.research.google.com/assets/colab-badge.svg\" alt=\"Open In Colab\"/></a>"
      ]
    },
    {
      "cell_type": "markdown",
      "source": [
        "**NumPy (Numerical Python) is a library used for high-performance numerical computing.**\n",
        "**It provides:**\n",
        "* ndarray – a fast, multidimensional array object\n",
        "* Mathematical functions like mean, sum, dot product, matrix operations\n",
        "\n",
        "**Key Features of NumPy:**\n",
        "* Fast array computations\n",
        "* Element-wise operations\n",
        "* Linear algebra and matrix operations\n",
        "* Broadcasting (efficient handling of different-shaped arrays)"
      ],
      "metadata": {
        "id": "XV31rf4CT8Uj"
      }
    },
    {
      "cell_type": "code",
      "execution_count": null,
      "metadata": {
        "colab": {
          "base_uri": "https://localhost:8080/"
        },
        "id": "coj6CD4StDSR",
        "outputId": "341760fc-093f-4e92-f76b-6d58705f12da"
      },
      "outputs": [
        {
          "output_type": "stream",
          "name": "stdout",
          "text": [
            "[1, 2, 3, 4, 5]\n",
            "1D Array\n",
            "[1 4 6 7 8]\n",
            "2D Array\n",
            "[[1 4 6 7 8]\n",
            " [7 8 9 6 6]]\n"
          ]
        }
      ],
      "source": [
        "import numpy as np\n",
        "lst = [1,2,3,4,5]\n",
        "print(lst)\n",
        "\n",
        "print('1D Array')\n",
        "a = np.array([1,4,6,7,8])\n",
        "print(a)\n",
        "\n",
        "print('2D Array')\n",
        "b = np.array([[1,4,6,7,8],[7,8,9,6,6]])\n",
        "print(b)"
      ]
    },
    {
      "cell_type": "code",
      "source": [
        "type(a) #n-dimensional array"
      ],
      "metadata": {
        "colab": {
          "base_uri": "https://localhost:8080/"
        },
        "id": "0mLWC-8tuydR",
        "outputId": "b99f5fd8-50b0-4c5b-cf9b-5483ae6aa6ac"
      },
      "execution_count": null,
      "outputs": [
        {
          "output_type": "execute_result",
          "data": {
            "text/plain": [
              "numpy.ndarray"
            ]
          },
          "metadata": {},
          "execution_count": 2
        }
      ]
    },
    {
      "cell_type": "code",
      "source": [
        "#number of elements in the array\n",
        "print(a.size)\n",
        "print(b.size)"
      ],
      "metadata": {
        "colab": {
          "base_uri": "https://localhost:8080/"
        },
        "id": "YPKw3dHPu4aE",
        "outputId": "a440829d-c375-4d80-a182-6e8c879c5c25"
      },
      "execution_count": null,
      "outputs": [
        {
          "output_type": "stream",
          "name": "stdout",
          "text": [
            "5\n",
            "10\n"
          ]
        }
      ]
    },
    {
      "cell_type": "code",
      "source": [
        "#rows and columns\n",
        "print(a.shape)\n",
        "print(b.shape)"
      ],
      "metadata": {
        "colab": {
          "base_uri": "https://localhost:8080/"
        },
        "id": "93lJRyh9vDZx",
        "outputId": "22c39c65-3067-4cdc-84c7-03fb29cf215f"
      },
      "execution_count": null,
      "outputs": [
        {
          "output_type": "stream",
          "name": "stdout",
          "text": [
            "(5,)\n",
            "(2, 5)\n"
          ]
        }
      ]
    },
    {
      "cell_type": "code",
      "source": [
        "#type of data\n",
        "print(a.dtype)"
      ],
      "metadata": {
        "colab": {
          "base_uri": "https://localhost:8080/"
        },
        "id": "RWqBWcVdvNxA",
        "outputId": "30d0c4ca-dc3d-4459-b9e9-9c23b76edaf8"
      },
      "execution_count": null,
      "outputs": [
        {
          "output_type": "stream",
          "name": "stdout",
          "text": [
            "int64\n"
          ]
        }
      ]
    },
    {
      "cell_type": "code",
      "source": [
        "#Transpose: row to columns, columns to rows\n",
        "print(b.transpose())"
      ],
      "metadata": {
        "colab": {
          "base_uri": "https://localhost:8080/"
        },
        "id": "KrE1cNO2vYpT",
        "outputId": "3f1c3e98-b0e2-43cb-b417-f7532189b890"
      },
      "execution_count": null,
      "outputs": [
        {
          "output_type": "stream",
          "name": "stdout",
          "text": [
            "[[1 7]\n",
            " [4 8]\n",
            " [6 9]\n",
            " [7 6]\n",
            " [8 6]]\n"
          ]
        }
      ]
    },
    {
      "cell_type": "code",
      "source": [
        "#create an empty array\n",
        "a = np.empty((4,4),dtype=int)\n",
        "print(a) #Random 2-d array created"
      ],
      "metadata": {
        "colab": {
          "base_uri": "https://localhost:8080/"
        },
        "id": "TTbXMo6UwAGL",
        "outputId": "b1218e92-af3a-4cc9-9633-a27f89e4aaa5"
      },
      "execution_count": null,
      "outputs": [
        {
          "output_type": "stream",
          "name": "stdout",
          "text": [
            "[[   449553625            0 489626271861 433791696995]\n",
            " [498216206368 468151435365 476741369968 416611827826]\n",
            " [450971566194 519691042924 502511173664 416611827822]\n",
            " [416611827830 463856468073 420906795105 433791697004]]\n"
          ]
        }
      ]
    },
    {
      "cell_type": "code",
      "source": [
        "#np.ones\n",
        "x = np.ones((3,5))\n",
        "print(x)\n",
        "x = np.ones((3,5),dtype = int)\n",
        "print(x)\n",
        "y= np.zeros(5)\n",
        "print(y)\n",
        "z = np.zeros((2,2), dtype=bool)\n",
        "print(z)"
      ],
      "metadata": {
        "colab": {
          "base_uri": "https://localhost:8080/"
        },
        "id": "Ng6hYzX1wUr0",
        "outputId": "c4eb28d4-2c39-4c32-c721-8180ee75fa9e"
      },
      "execution_count": null,
      "outputs": [
        {
          "output_type": "stream",
          "name": "stdout",
          "text": [
            "[[1. 1. 1. 1. 1.]\n",
            " [1. 1. 1. 1. 1.]\n",
            " [1. 1. 1. 1. 1.]]\n",
            "[[1 1 1 1 1]\n",
            " [1 1 1 1 1]\n",
            " [1 1 1 1 1]]\n",
            "[0. 0. 0. 0. 0.]\n",
            "[[False False]\n",
            " [False False]]\n"
          ]
        }
      ]
    },
    {
      "cell_type": "code",
      "source": [
        "#A-Range\n",
        "a = np.arange(1,19,2)#skips 20\n",
        "print(a)#odd numbers"
      ],
      "metadata": {
        "colab": {
          "base_uri": "https://localhost:8080/"
        },
        "id": "JzCDByP-0n1g",
        "outputId": "696e44d8-ca3f-45c6-f6bd-9dd8db8885f2"
      },
      "execution_count": null,
      "outputs": [
        {
          "output_type": "stream",
          "name": "stdout",
          "text": [
            "[ 1  3  5  7  9 11 13 15 17]\n"
          ]
        }
      ]
    },
    {
      "cell_type": "code",
      "source": [
        "#Reshape\n",
        "a = a.reshape((3,3))\n",
        "print(a)"
      ],
      "metadata": {
        "colab": {
          "base_uri": "https://localhost:8080/"
        },
        "id": "0wuWjVYa1iI6",
        "outputId": "96a7cc68-c786-42d1-9fb2-9b73a2b59588"
      },
      "execution_count": null,
      "outputs": [
        {
          "output_type": "stream",
          "name": "stdout",
          "text": [
            "[[ 1  3  5]\n",
            " [ 7  9 11]\n",
            " [13 15 17]]\n"
          ]
        }
      ]
    },
    {
      "cell_type": "code",
      "source": [
        "#Flatten: flatten creates copy of original array\n",
        "a = a.flatten()\n",
        "print(a)"
      ],
      "metadata": {
        "colab": {
          "base_uri": "https://localhost:8080/"
        },
        "id": "w9eTel-K1_Ik",
        "outputId": "337e991d-12cd-4da6-80e6-aaccb2069406"
      },
      "execution_count": null,
      "outputs": [
        {
          "output_type": "stream",
          "name": "stdout",
          "text": [
            "[ 1  3  5  7  9 11 13 15 17]\n"
          ]
        }
      ]
    },
    {
      "cell_type": "code",
      "source": [
        "#Ravel: Returns reference of original array, the value of original array changes\n",
        "#Same as flatten, Occupies less space than flatten, as it does not occupy any memory\n",
        "b = a.reshape((3,3))\n",
        "print(b)\n",
        "c = b.ravel()\n",
        "print(b,c)"
      ],
      "metadata": {
        "colab": {
          "base_uri": "https://localhost:8080/"
        },
        "id": "cZpRFul62GYD",
        "outputId": "6c6e87cc-1b2b-4006-e68a-49fa4a4ad4d7"
      },
      "execution_count": null,
      "outputs": [
        {
          "output_type": "stream",
          "name": "stdout",
          "text": [
            "[[ 1  3  5]\n",
            " [ 7  9 11]\n",
            " [13 15 17]]\n",
            "[[ 1  3  5]\n",
            " [ 7  9 11]\n",
            " [13 15 17]] [ 1  3  5  7  9 11 13 15 17]\n"
          ]
        }
      ]
    },
    {
      "cell_type": "code",
      "source": [
        "#Array Slicing\n",
        "a = np.arange(1,51).reshape((10,5))\n",
        "print(a)\n",
        "print(a[0])\n",
        "print(a[3][3])\n",
        "print(a[3,4])"
      ],
      "metadata": {
        "colab": {
          "base_uri": "https://localhost:8080/"
        },
        "id": "o_PWTHB53QnG",
        "outputId": "cb72b1b9-f460-44ee-bbd7-6914d06fbe34"
      },
      "execution_count": null,
      "outputs": [
        {
          "output_type": "stream",
          "name": "stdout",
          "text": [
            "[[ 1  2  3  4  5]\n",
            " [ 6  7  8  9 10]\n",
            " [11 12 13 14 15]\n",
            " [16 17 18 19 20]\n",
            " [21 22 23 24 25]\n",
            " [26 27 28 29 30]\n",
            " [31 32 33 34 35]\n",
            " [36 37 38 39 40]\n",
            " [41 42 43 44 45]\n",
            " [46 47 48 49 50]]\n",
            "[1 2 3 4 5]\n",
            "19\n",
            "20\n"
          ]
        }
      ]
    },
    {
      "cell_type": "code",
      "source": [
        "print(a[3:5])\n",
        "print(a[9:100])\n",
        "print(a[3:10:2])"
      ],
      "metadata": {
        "colab": {
          "base_uri": "https://localhost:8080/"
        },
        "id": "eLBW1cQS36Lj",
        "outputId": "004b4191-74bf-4902-9311-d73faae5ce40"
      },
      "execution_count": null,
      "outputs": [
        {
          "output_type": "stream",
          "name": "stdout",
          "text": [
            "[[16 17 18 19 20]\n",
            " [21 22 23 24 25]]\n",
            "[[46 47 48 49 50]]\n",
            "[[16 17 18 19 20]\n",
            " [26 27 28 29 30]\n",
            " [36 37 38 39 40]\n",
            " [46 47 48 49 50]]\n"
          ]
        }
      ]
    },
    {
      "cell_type": "code",
      "source": [
        "print(a[:])"
      ],
      "metadata": {
        "colab": {
          "base_uri": "https://localhost:8080/"
        },
        "id": "U4UWeuoq3-gF",
        "outputId": "79a54283-5b66-4c6f-da50-ec953f07e159"
      },
      "execution_count": null,
      "outputs": [
        {
          "output_type": "stream",
          "name": "stdout",
          "text": [
            "[[ 1  2  3  4  5]\n",
            " [ 6  7  8  9 10]\n",
            " [11 12 13 14 15]\n",
            " [16 17 18 19 20]\n",
            " [21 22 23 24 25]\n",
            " [26 27 28 29 30]\n",
            " [31 32 33 34 35]\n",
            " [36 37 38 39 40]\n",
            " [41 42 43 44 45]\n",
            " [46 47 48 49 50]]\n"
          ]
        }
      ]
    },
    {
      "cell_type": "code",
      "source": [
        "print(a[::2])"
      ],
      "metadata": {
        "colab": {
          "base_uri": "https://localhost:8080/"
        },
        "id": "N2ehjNT74XBx",
        "outputId": "38cb978a-e2b6-4271-a758-dd21ef0f2d1c"
      },
      "execution_count": null,
      "outputs": [
        {
          "output_type": "stream",
          "name": "stdout",
          "text": [
            "[[ 1  2  3  4  5]\n",
            " [11 12 13 14 15]\n",
            " [21 22 23 24 25]\n",
            " [31 32 33 34 35]\n",
            " [41 42 43 44 45]]\n"
          ]
        }
      ]
    },
    {
      "cell_type": "code",
      "source": [
        "print(a[:,3:7])"
      ],
      "metadata": {
        "colab": {
          "base_uri": "https://localhost:8080/"
        },
        "id": "JZw_vWgA4YV6",
        "outputId": "27b7823c-cc10-498a-a58d-dfe684014f51"
      },
      "execution_count": null,
      "outputs": [
        {
          "output_type": "stream",
          "name": "stdout",
          "text": [
            "[[ 4  5]\n",
            " [ 9 10]\n",
            " [14 15]\n",
            " [19 20]\n",
            " [24 25]\n",
            " [29 30]\n",
            " [34 35]\n",
            " [39 40]\n",
            " [44 45]\n",
            " [49 50]]\n"
          ]
        }
      ]
    },
    {
      "cell_type": "code",
      "source": [
        "print(a[:,3].dtype)"
      ],
      "metadata": {
        "colab": {
          "base_uri": "https://localhost:8080/"
        },
        "id": "24WrXXNb4jC2",
        "outputId": "7a972044-6a02-47f7-82cf-f0baeaf034c7"
      },
      "execution_count": null,
      "outputs": [
        {
          "output_type": "stream",
          "name": "stdout",
          "text": [
            "int64\n"
          ]
        }
      ]
    },
    {
      "cell_type": "code",
      "source": [
        "#\n",
        "a = np.arange(0,18).reshape(6,3)\n",
        "b = np.arange(20,38).reshape(6,3)\n",
        "print(a)\n",
        "print(b)"
      ],
      "metadata": {
        "colab": {
          "base_uri": "https://localhost:8080/"
        },
        "id": "CnEFYskr4v4H",
        "outputId": "ce726f4b-facc-4f94-ba36-82c125f4b097"
      },
      "execution_count": null,
      "outputs": [
        {
          "output_type": "stream",
          "name": "stdout",
          "text": [
            "[[ 0  1  2]\n",
            " [ 3  4  5]\n",
            " [ 6  7  8]\n",
            " [ 9 10 11]\n",
            " [12 13 14]\n",
            " [15 16 17]]\n",
            "[[20 21 22]\n",
            " [23 24 25]\n",
            " [26 27 28]\n",
            " [29 30 31]\n",
            " [32 33 34]\n",
            " [35 36 37]]\n"
          ]
        }
      ]
    },
    {
      "cell_type": "code",
      "source": [
        "a + b"
      ],
      "metadata": {
        "colab": {
          "base_uri": "https://localhost:8080/"
        },
        "id": "brNaG4eS7htW",
        "outputId": "5f153184-bc2e-4d89-da58-36539637f418"
      },
      "execution_count": null,
      "outputs": [
        {
          "output_type": "execute_result",
          "data": {
            "text/plain": [
              "array([[20, 22, 24],\n",
              "       [26, 28, 30],\n",
              "       [32, 34, 36],\n",
              "       [38, 40, 42],\n",
              "       [44, 46, 48],\n",
              "       [50, 52, 54]])"
            ]
          },
          "metadata": {},
          "execution_count": 42
        }
      ]
    },
    {
      "cell_type": "code",
      "source": [
        "np.add(a,b)"
      ],
      "metadata": {
        "colab": {
          "base_uri": "https://localhost:8080/"
        },
        "id": "hvayMyDh7kQW",
        "outputId": "2988b440-ec6f-4a1d-f3c2-9dfa15485594"
      },
      "execution_count": null,
      "outputs": [
        {
          "output_type": "execute_result",
          "data": {
            "text/plain": [
              "array([[20, 22, 24],\n",
              "       [26, 28, 30],\n",
              "       [32, 34, 36],\n",
              "       [38, 40, 42],\n",
              "       [44, 46, 48],\n",
              "       [50, 52, 54]])"
            ]
          },
          "metadata": {},
          "execution_count": 43
        }
      ]
    },
    {
      "cell_type": "code",
      "source": [
        "np.subtract(a,b)"
      ],
      "metadata": {
        "colab": {
          "base_uri": "https://localhost:8080/"
        },
        "id": "zoGwHhe47njl",
        "outputId": "ffeaa167-21c9-4dc0-91a7-df321f7ff9f4"
      },
      "execution_count": null,
      "outputs": [
        {
          "output_type": "execute_result",
          "data": {
            "text/plain": [
              "array([[-20, -20, -20],\n",
              "       [-20, -20, -20],\n",
              "       [-20, -20, -20],\n",
              "       [-20, -20, -20],\n",
              "       [-20, -20, -20],\n",
              "       [-20, -20, -20]])"
            ]
          },
          "metadata": {},
          "execution_count": 44
        }
      ]
    },
    {
      "cell_type": "code",
      "source": [
        "#it is not matrix multiplication , its identical index multiplicatio\n",
        "np.multiply(a,b)"
      ],
      "metadata": {
        "colab": {
          "base_uri": "https://localhost:8080/"
        },
        "id": "wqbGoGjD7rh6",
        "outputId": "ab00a1dc-be53-404b-a258-6b5ce9bb9f55"
      },
      "execution_count": null,
      "outputs": [
        {
          "output_type": "execute_result",
          "data": {
            "text/plain": [
              "array([[  0,  21,  44],\n",
              "       [ 69,  96, 125],\n",
              "       [156, 189, 224],\n",
              "       [261, 300, 341],\n",
              "       [384, 429, 476],\n",
              "       [525, 576, 629]])"
            ]
          },
          "metadata": {},
          "execution_count": 45
        }
      ]
    },
    {
      "cell_type": "code",
      "source": [
        "#Matrix multiplication\n",
        "b = b.reshape(3,6)\n",
        "a@b"
      ],
      "metadata": {
        "colab": {
          "base_uri": "https://localhost:8080/"
        },
        "id": "YMN8TgD47twe",
        "outputId": "2aef1f6a-e89a-4012-a275-62a95699a8b7"
      },
      "execution_count": null,
      "outputs": [
        {
          "output_type": "execute_result",
          "data": {
            "text/plain": [
              "array([[  90,   93,   96,   99,  102,  105],\n",
              "       [ 324,  336,  348,  360,  372,  384],\n",
              "       [ 558,  579,  600,  621,  642,  663],\n",
              "       [ 792,  822,  852,  882,  912,  942],\n",
              "       [1026, 1065, 1104, 1143, 1182, 1221],\n",
              "       [1260, 1308, 1356, 1404, 1452, 1500]])"
            ]
          },
          "metadata": {},
          "execution_count": 47
        }
      ]
    },
    {
      "cell_type": "code",
      "source": [
        "np.dot(a,b)"
      ],
      "metadata": {
        "colab": {
          "base_uri": "https://localhost:8080/"
        },
        "id": "Pozk9a7V8Lx_",
        "outputId": "fd7c0b53-6d96-4d50-9854-0d99f0d17a70"
      },
      "execution_count": null,
      "outputs": [
        {
          "output_type": "execute_result",
          "data": {
            "text/plain": [
              "array([[  90,   93,   96,   99,  102,  105],\n",
              "       [ 324,  336,  348,  360,  372,  384],\n",
              "       [ 558,  579,  600,  621,  642,  663],\n",
              "       [ 792,  822,  852,  882,  912,  942],\n",
              "       [1026, 1065, 1104, 1143, 1182, 1221],\n",
              "       [1260, 1308, 1356, 1404, 1452, 1500]])"
            ]
          },
          "metadata": {},
          "execution_count": 48
        }
      ]
    },
    {
      "cell_type": "code",
      "source": [
        "a.dot(b)"
      ],
      "metadata": {
        "colab": {
          "base_uri": "https://localhost:8080/"
        },
        "id": "UkV5K0c58Tgi",
        "outputId": "8c5df0f6-0317-4df1-f2fb-093416a52ebb"
      },
      "execution_count": null,
      "outputs": [
        {
          "output_type": "execute_result",
          "data": {
            "text/plain": [
              "array([[  90,   93,   96,   99,  102,  105],\n",
              "       [ 324,  336,  348,  360,  372,  384],\n",
              "       [ 558,  579,  600,  621,  642,  663],\n",
              "       [ 792,  822,  852,  882,  912,  942],\n",
              "       [1026, 1065, 1104, 1143, 1182, 1221],\n",
              "       [1260, 1308, 1356, 1404, 1452, 1500]])"
            ]
          },
          "metadata": {},
          "execution_count": 49
        }
      ]
    },
    {
      "cell_type": "code",
      "source": [
        "print(b.max())\n",
        "print('Index of max:',b.argmax())"
      ],
      "metadata": {
        "colab": {
          "base_uri": "https://localhost:8080/"
        },
        "id": "xhE5beLx8W97",
        "outputId": "986e6aac-e40b-46c8-fe84-536ed7647a9b"
      },
      "execution_count": null,
      "outputs": [
        {
          "output_type": "stream",
          "name": "stdout",
          "text": [
            "37\n",
            "Index of max: 17\n"
          ]
        }
      ]
    },
    {
      "cell_type": "code",
      "source": [
        "print(np.sum(b))\n",
        "#axis 1 is row, axis 0 is column\n",
        "print(np.sum(b,axis=1))"
      ],
      "metadata": {
        "colab": {
          "base_uri": "https://localhost:8080/"
        },
        "id": "Ij-P_jr38pvz",
        "outputId": "0af9d079-03c6-48ab-cf64-2aeb5dd3dae6"
      },
      "execution_count": null,
      "outputs": [
        {
          "output_type": "stream",
          "name": "stdout",
          "text": [
            "513\n",
            "[135 171 207]\n"
          ]
        }
      ]
    },
    {
      "cell_type": "code",
      "source": [
        "np.sqrt(b)\n",
        "np.mean(b)\n",
        "np.log(b)"
      ],
      "metadata": {
        "colab": {
          "base_uri": "https://localhost:8080/"
        },
        "id": "0zrKjSso8-Ps",
        "outputId": "7f1cc13d-46f2-4f55-bbd3-f01339733a07"
      },
      "execution_count": null,
      "outputs": [
        {
          "output_type": "execute_result",
          "data": {
            "text/plain": [
              "array([[2.99573227, 3.04452244, 3.09104245, 3.13549422, 3.17805383,\n",
              "        3.21887582],\n",
              "       [3.25809654, 3.29583687, 3.33220451, 3.36729583, 3.40119738,\n",
              "        3.4339872 ],\n",
              "       [3.4657359 , 3.49650756, 3.52636052, 3.55534806, 3.58351894,\n",
              "        3.61091791]])"
            ]
          },
          "metadata": {},
          "execution_count": 60
        }
      ]
    },
    {
      "cell_type": "code",
      "source": [
        "#Numpy trignometric operations\n",
        "import numpy as np\n",
        "import matplotlib.pyplot as plt\n",
        "print(np.pi)\n",
        "print(np.sin(np.pi/2))\n",
        "print(np.tan(0))"
      ],
      "metadata": {
        "colab": {
          "base_uri": "https://localhost:8080/"
        },
        "id": "epWLF0HW9Kuc",
        "outputId": "cf25af3d-1fdd-4af2-ee1a-a4d8c634317b"
      },
      "execution_count": null,
      "outputs": [
        {
          "output_type": "stream",
          "name": "stdout",
          "text": [
            "3.141592653589793\n",
            "1.0\n",
            "0.0\n"
          ]
        }
      ]
    },
    {
      "cell_type": "code",
      "source": [
        "x = np.arange(1,11)\n",
        "y = np.arange(10,110,10)\n",
        "\n",
        "plt.figure(figsize=(3,3))\n",
        "plt.plot(x,y,'r-.')\n",
        "plt.show()"
      ],
      "metadata": {
        "colab": {
          "base_uri": "https://localhost:8080/",
          "height": 291
        },
        "id": "hrfqUilp-RUp",
        "outputId": "c030d736-3da3-40dd-f2ee-360d71365535"
      },
      "execution_count": null,
      "outputs": [
        {
          "output_type": "display_data",
          "data": {
            "text/plain": [
              "<Figure size 300x300 with 1 Axes>"
            ],
            "image/png": "[encoded data removed]"
          },
          "metadata": {}
        }
      ]
    },
    {
      "cell_type": "code",
      "source": [
        "x_cos = np.arange(0,2*np.pi,0.1)\n",
        "y_cos = np.cos(x_cos)\n",
        "plt.figure(figsize=(3,3))\n",
        "plt.plot(x_cos,y_cos)\n",
        "plt.title('Cosine Graph')\n",
        "plt.show()\n",
        "\n",
        "x_tan = np.arange(0,2*np.pi,0.1)\n",
        "y_tan = np.tan(x_tan)\n",
        "plt.figure(figsize=(3,3))\n",
        "plt.plot(x_tan,y_tan,'g-')\n",
        "plt.title('Tangent Graph')\n",
        "plt.show()"
      ],
      "metadata": {
        "colab": {
          "base_uri": "https://localhost:8080/",
          "height": 611
        },
        "id": "6BVuA3Hs-s1d",
        "outputId": "4a6b7034-01d6-48fc-fab3-08cd0c4dd2fa"
      },
      "execution_count": null,
      "outputs": [
        {
          "output_type": "display_data",
          "data": {
            "text/plain": [
              "<Figure size 300x300 with 1 Axes>"
            ],
            "image/png": "[encoded data removed]"
          },
          "metadata": {}
        },
        {
          "output_type": "display_data",
          "data": {
            "text/plain": [
              "<Figure size 300x300 with 1 Axes>"
            ],
            "image/png": "[encoded data removed]"
          },
          "metadata": {}
        }
      ]
    },
    {
      "cell_type": "code",
      "source": [
        "#Random Operations\n",
        "print(np.random.random())\n",
        "print(np.random.random(1))\n",
        "print(np.random.random((2,2)))"
      ],
      "metadata": {
        "colab": {
          "base_uri": "https://localhost:8080/"
        },
        "id": "X7_illqM_HID",
        "outputId": "5801abdc-366b-47b7-da45-4add60c1c4f2"
      },
      "execution_count": null,
      "outputs": [
        {
          "output_type": "stream",
          "name": "stdout",
          "text": [
            "0.32079656941842993\n",
            "[0.32208824]\n",
            "[[0.40344739 0.9809437 ]\n",
            " [0.8903741  0.32952949]]\n"
          ]
        }
      ]
    },
    {
      "cell_type": "code",
      "source": [
        "print(np.random.randint(1,10))\n",
        "print(np.random.randint(1,10,5))\n",
        "print(np.random.randint(1,10,(3,3)))"
      ],
      "metadata": {
        "colab": {
          "base_uri": "https://localhost:8080/"
        },
        "id": "c_IiMBHKAHOB",
        "outputId": "424eebb7-a7dc-4d5b-a0be-fe9400c1266b"
      },
      "execution_count": null,
      "outputs": [
        {
          "output_type": "stream",
          "name": "stdout",
          "text": [
            "3\n",
            "[1 5 9 3 7]\n",
            "[[4 5 2]\n",
            " [2 8 7]\n",
            " [5 8 5]]\n"
          ]
        }
      ]
    },
    {
      "cell_type": "code",
      "source": [
        "print(np.random.rand(1,2))\n",
        "#rand for float\n",
        "#randn for +ve and -ve float\n",
        "print(np.random.randn(2,2))"
      ],
      "metadata": {
        "colab": {
          "base_uri": "https://localhost:8080/"
        },
        "id": "3YF9k1yVATK8",
        "outputId": "628a0d4c-aded-4b49-9505-ccf31af03a72"
      },
      "execution_count": null,
      "outputs": [
        {
          "output_type": "stream",
          "name": "stdout",
          "text": [
            "[[0.66335709 0.13933538]]\n",
            "[[ 0.72339252  1.10487762]\n",
            " [-0.09401439 -0.9547865 ]]\n"
          ]
        }
      ]
    },
    {
      "cell_type": "code",
      "source": [
        "#Choose from the given set\n",
        "a = np.random.choice([1,2,3,4,5,6])\n",
        "print(a)"
      ],
      "metadata": {
        "colab": {
          "base_uri": "https://localhost:8080/"
        },
        "id": "r5Qj4fXMA5du",
        "outputId": "a3b00450-74fa-4bc2-bafc-a1a6a9c1f4f4"
      },
      "execution_count": null,
      "outputs": [
        {
          "output_type": "stream",
          "name": "stdout",
          "text": [
            "6\n"
          ]
        }
      ]
    },
    {
      "cell_type": "code",
      "source": [
        "#With strings\n",
        "s1 = 'Supraja is my name'\n",
        "s2 = 'I am an Indian'\n",
        "\n",
        "print(np.char.add(s1,s2))\n",
        "print(np.char.lower(s1))\n",
        "print(np.char.upper(s1))\n",
        "print(np.char.center(s1,60))\n",
        "print(np.char.center(s1,60,fillchar='*'))\n",
        "print(np.char.split(s1))"
      ],
      "metadata": {
        "colab": {
          "base_uri": "https://localhost:8080/"
        },
        "id": "s6aUXE7oBFeA",
        "outputId": "3c75714f-b2c5-475f-e5f4-218fbd92cb85"
      },
      "execution_count": null,
      "outputs": [
        {
          "output_type": "stream",
          "name": "stdout",
          "text": [
            "Supraja is my nameI am an Indian\n",
            "supraja is my name\n",
            "SUPRAJA IS MY NAME\n",
            "                     Supraja is my name                     \n",
            "*********************Supraja is my name*********************\n",
            "['Supraja', 'is', 'my', 'name']\n"
          ]
        }
      ]
    },
    {
      "cell_type": "code",
      "source": [
        "print(np.char.join([':','-'],[s1,s2]))"
      ],
      "metadata": {
        "colab": {
          "base_uri": "https://localhost:8080/"
        },
        "id": "7rNO7QifBq0m",
        "outputId": "677fb1d6-f716-401d-cfa4-28c6d28d4bd9"
      },
      "execution_count": null,
      "outputs": [
        {
          "output_type": "stream",
          "name": "stdout",
          "text": [
            "['S:u:p:r:a:j:a: :i:s: :m:y: :n:a:m:e' 'I- -a-m- -a-n- -I-n-d-i-a-n']\n"
          ]
        }
      ]
    },
    {
      "cell_type": "code",
      "source": [
        "print(np.char.replace(s1,'Supraja','Sup'))\n",
        "print(np.char.equal(s1,s2))\n",
        "print(np.char.count(s1,'a'))\n",
        "print(np.char.find(s1,'a')\n"
      ],
      "metadata": {
        "colab": {
          "base_uri": "https://localhost:8080/"
        },
        "id": "4s-8REDGBxQc",
        "outputId": "8819bf27-d21a-4cbe-ff5b-7f964ee2bd39"
      },
      "execution_count": null,
      "outputs": [
        {
          "output_type": "stream",
          "name": "stdout",
          "text": [
            "Sup is my name\n",
            "False\n",
            "3\n"
          ]
        }
      ]
    },
    {
      "cell_type": "code",
      "source": [
        "import numpy as np\n",
        "# Create a sample 1D and 2D array\n",
        "a = np.array([10, 20, 30, 40, 50])\n",
        "b = np.array([[1, 2, 3], [4, 5, 6], [7, 8, 9]])"
      ],
      "metadata": {
        "id": "w7XjZ4Rwv4S9"
      },
      "execution_count": 1,
      "outputs": []
    },
    {
      "cell_type": "markdown",
      "source": [
        "## 🔢 1. Indexing\n",
        "Accessing individual elements using their index position."
      ],
      "metadata": {
        "id": "PLtXIDVXwCi1"
      }
    },
    {
      "cell_type": "code",
      "source": [
        "# 1D Indexing\n",
        "print(\"a[0] =\", a[0])      # First element\n",
        "print(\"a[-1] =\", a[-1])    # Last element\n",
        "\n",
        "# 2D Indexing\n",
        "print(\"b[0, 1] =\", b[0, 1])  # Row 0, Col 1\n",
        "print(\"b[2, 2] =\", b[2, 2])  # Last row, last col"
      ],
      "metadata": {
        "colab": {
          "base_uri": "https://localhost:8080/"
        },
        "id": "vL2TSyHwwEY5",
        "outputId": "8392a6f8-16ad-4eee-c5a1-a69eaf03b1ea"
      },
      "execution_count": 2,
      "outputs": [
        {
          "output_type": "stream",
          "name": "stdout",
          "text": [
            "a[0] = 10\n",
            "a[-1] = 50\n",
            "b[0, 1] = 2\n",
            "b[2, 2] = 9\n"
          ]
        }
      ]
    },
    {
      "cell_type": "markdown",
      "source": [
        "## ✂️ 2. Slicing\n",
        "Extracting a subarray using the slice notation: `start:stop:step`"
      ],
      "metadata": {
        "id": "PF4c8PAmwMBq"
      }
    },
    {
      "cell_type": "code",
      "source": [
        "# 1D Slicing\n",
        "print(\"a[1:4] =\", a[1:4])      # Elements from index 1 to 3\n",
        "print(\"a[:3] =\", a[:3])        # First 3 elements\n",
        "print(\"a[::2] =\", a[::2])      # Every second element\n",
        "\n",
        "# 2D Slicing\n",
        "print(\"b[0:2, 1:] =\\n\", b[0:2, 1:])  # Rows 0-1, Cols 1-end\n",
        "print(\"b[:, 0] =\", b[:, 0])         # All rows, first column"
      ],
      "metadata": {
        "colab": {
          "base_uri": "https://localhost:8080/"
        },
        "id": "pfXHn8krwKrw",
        "outputId": "e42c007f-8afe-4319-8b32-ab62a6031e03"
      },
      "execution_count": 3,
      "outputs": [
        {
          "output_type": "stream",
          "name": "stdout",
          "text": [
            "a[1:4] = [20 30 40]\n",
            "a[:3] = [10 20 30]\n",
            "a[::2] = [10 30 50]\n",
            "b[0:2, 1:] =\n",
            " [[2 3]\n",
            " [5 6]]\n",
            "b[:, 0] = [1 4 7]\n"
          ]
        }
      ]
    },
    {
      "cell_type": "markdown",
      "source": [
        "## ✅ 3. Boolean Masking\n",
        "Creating masks with boolean expressions to filter array values."
      ],
      "metadata": {
        "id": "lZeFDil2wX5A"
      }
    },
    {
      "cell_type": "code",
      "source": [
        "# 1D Boolean Masking\n",
        "mask = a > 25\n",
        "print(\"Mask:\", mask)\n",
        "print(\"a[a > 25] =\", a[mask])   # Same as a[a > 25]\n",
        "print(a)\n",
        "\n",
        "# 2D Boolean Masking\n",
        "even_mask = b % 2 == 0\n",
        "print(\"Even elements in b:\", b[even_mask])"
      ],
      "metadata": {
        "colab": {
          "base_uri": "https://localhost:8080/"
        },
        "id": "1flcAJ7QwbBL",
        "outputId": "34474373-79ff-4c30-ac18-47b6280294fd"
      },
      "execution_count": 5,
      "outputs": [
        {
          "output_type": "stream",
          "name": "stdout",
          "text": [
            "Mask: [False False  True  True  True]\n",
            "a[a > 25] = [30 40 50]\n",
            "[10 20 30 40 50]\n",
            "Even elements in b: [2 4 6 8]\n"
          ]
        }
      ]
    },
    {
      "cell_type": "markdown",
      "source": [
        "## ✅ Bonus: Combining Slicing and Boolean Indexing\n",
        "You can combine both methods for advanced selections."
      ],
      "metadata": {
        "id": "KLZ4gb5wwvKy"
      }
    },
    {
      "cell_type": "code",
      "source": [
        "# Get elements from 1D array `a` that are > 20 and < 45\n",
        "print(\"a[(a > 20) & (a < 45)] =\", a[(a > 20) & (a < 45)])\n",
        "\n",
        "# Replace values in `b` that are > 5 with 0\n",
        "b[b > 5] = 0\n",
        "print(\"Updated b:\\n\", b)"
      ],
      "metadata": {
        "colab": {
          "base_uri": "https://localhost:8080/"
        },
        "id": "mOsAsITEwuqg",
        "outputId": "31486109-3ef0-4d52-bb6b-2e0167d12da7"
      },
      "execution_count": 6,
      "outputs": [
        {
          "output_type": "stream",
          "name": "stdout",
          "text": [
            "a[(a > 20) & (a < 45)] = [30 40]\n",
            "Updated b:\n",
            " [[1 2 3]\n",
            " [4 5 0]\n",
            " [0 0 0]]\n"
          ]
        }
      ]
    },
    {
      "cell_type": "markdown",
      "source": [
        "# 🚀 NumPy: Broadcasting and Vectorized Operations\n",
        "NumPy uses broadcasting to enable efficient, element-wise operations between arrays of different shapes—without writing explicit loops."
      ],
      "metadata": {
        "id": "UUHuK92wxPTi"
      }
    },
    {
      "cell_type": "markdown",
      "source": [
        "## 📌 What is Broadcasting?\n",
        "Broadcasting is a set of rules NumPy uses to apply binary operations (like +, -, *, /) on arrays of **different shapes**.\n",
        "\n",
        "It **avoids creating full copies** of arrays for memory efficiency and **automatically expands dimensions** when needed.\n",
        "\n",
        "## 🧠 Broadcasting Rules\n",
        "1. If arrays have different numbers of dimensions, the smaller one is **left-padded with ones**.\n",
        "2. Dimensions are **compatible** when:\n",
        "   - they are equal, or\n",
        "   - one of them is 1.\n",
        "3. If any dimension is incompatible, a `ValueError` is raised.\n"
      ],
      "metadata": {
        "id": "KuE7JeE8xXU5"
      }
    },
    {
      "cell_type": "code",
      "source": [
        "## ✅ Example 1: Scalar + Array\n",
        "#A scalar (0D) can broadcast with any array.\n",
        "a = np.array([1, 2, 3])\n",
        "print(\"a + 10 =\", a + 10)  # Adds 10 to each element\n"
      ],
      "metadata": {
        "colab": {
          "base_uri": "https://localhost:8080/"
        },
        "id": "Sq3a1gRsxYo3",
        "outputId": "30174402-a0e4-4a6d-80dd-5966a087c4d8"
      },
      "execution_count": 7,
      "outputs": [
        {
          "output_type": "stream",
          "name": "stdout",
          "text": [
            "a + 10 = [11 12 13]\n"
          ]
        }
      ]
    },
    {
      "cell_type": "code",
      "source": [
        "## ✅ Example 2: 1D + 2D Array\n",
        "#1D array is broadcasted across each row of a 2D array.\n",
        "a = np.array([[1, 2, 3], [4, 5, 6]])\n",
        "b = np.array([10, 20, 30])\n",
        "print(\"a + b =\\n\", a + b)  # Adds b to each row of a"
      ],
      "metadata": {
        "colab": {
          "base_uri": "https://localhost:8080/"
        },
        "id": "-S183WGNyFaB",
        "outputId": "e2db0cc3-6a86-4e5f-c70f-f22abd551ca0"
      },
      "execution_count": 8,
      "outputs": [
        {
          "output_type": "stream",
          "name": "stdout",
          "text": [
            "a + b =\n",
            " [[11 22 33]\n",
            " [14 25 36]]\n"
          ]
        }
      ]
    },
    {
      "cell_type": "code",
      "source": [
        "## ✅ Example 3: Column Vector + Row Vector\n",
        "#Produces a full 2D result via outer addition.\n",
        "row = np.array([1, 2, 3])\n",
        "col = np.array([[10], [20], [30]])\n",
        "print(\"row + col =\\n\", row + col)"
      ],
      "metadata": {
        "colab": {
          "base_uri": "https://localhost:8080/"
        },
        "id": "71trdyCxybOC",
        "outputId": "a63eaad0-78de-4031-8dd2-a48c66b21145"
      },
      "execution_count": 9,
      "outputs": [
        {
          "output_type": "stream",
          "name": "stdout",
          "text": [
            "row + col =\n",
            " [[11 12 13]\n",
            " [21 22 23]\n",
            " [31 32 33]]\n"
          ]
        }
      ]
    },
    {
      "cell_type": "markdown",
      "source": [
        "## ⚡ Vectorized Operations\n",
        "These operations apply **element-wise** to entire arrays using broadcasting—no loops needed."
      ],
      "metadata": {
        "id": "HIID9WbhytT6"
      }
    },
    {
      "cell_type": "code",
      "source": [
        "a = np.array([1, 2, 3, 4])\n",
        "b = np.array([10, 20, 30, 40])\n",
        "\n",
        "print(\"a + b =\", a + b)         # Element-wise addition\n",
        "print(\"a * b =\", a * b)         # Element-wise multiplication\n",
        "print(\"a ** 2 =\", a ** 2)       # Square each element\n",
        "print(\"np.sqrt(b) =\", np.sqrt(b))  # Square root of each element\n"
      ],
      "metadata": {
        "colab": {
          "base_uri": "https://localhost:8080/"
        },
        "id": "jbeDwc_azA2V",
        "outputId": "2851034e-9a46-48c2-bcc6-a0e7b3695e7e"
      },
      "execution_count": 10,
      "outputs": [
        {
          "output_type": "stream",
          "name": "stdout",
          "text": [
            "a + b = [11 22 33 44]\n",
            "a * b = [ 10  40  90 160]\n",
            "a ** 2 = [ 1  4  9 16]\n",
            "np.sqrt(b) = [3.16227766 4.47213595 5.47722558 6.32455532]\n"
          ]
        }
      ]
    },
    {
      "cell_type": "markdown",
      "source": [
        "## 🧪 Broadcasting with Different Shapes\n",
        "Use `.reshape()` to explicitly prepare arrays for broadcasting."
      ],
      "metadata": {
        "id": "ep16XKo1y6kR"
      }
    },
    {
      "cell_type": "code",
      "source": [
        "a = np.array([1, 2, 3])         # shape: (3,)\n",
        "b = np.array([[10], [20], [30]])  # shape: (3, 1)\n",
        "\n",
        "print(\"a.shape:\", a.shape)\n",
        "print(\"b.shape:\", b.shape)\n",
        "print(\"a + b =\\n\", a + b)       # Result shape: (3, 3)"
      ],
      "metadata": {
        "colab": {
          "base_uri": "https://localhost:8080/"
        },
        "id": "4FIcDKLay75K",
        "outputId": "5322f201-a64f-4a23-cc1a-64346de4fa5c"
      },
      "execution_count": 11,
      "outputs": [
        {
          "output_type": "stream",
          "name": "stdout",
          "text": [
            "a.shape: (3,)\n",
            "b.shape: (3, 1)\n",
            "a + b =\n",
            " [[11 12 13]\n",
            " [21 22 23]\n",
            " [31 32 33]]\n"
          ]
        }
      ]
    },
    {
      "cell_type": "markdown",
      "source": [
        "## ⚠️ Invalid Broadcasting\n",
        "Incompatible shapes raise an error."
      ],
      "metadata": {
        "id": "NQaCK-azzM9Q"
      }
    },
    {
      "cell_type": "code",
      "source": [
        "try:\n",
        "    a = np.array([[1, 2, 3]])\n",
        "    b = np.array([[1, 2]])\n",
        "    a + b\n",
        "except ValueError as e:\n",
        "    print(\"Broadcast error:\", e)"
      ],
      "metadata": {
        "colab": {
          "base_uri": "https://localhost:8080/"
        },
        "id": "b2IRvWHJzTuE",
        "outputId": "04a9e954-a23a-4805-f94f-2957915d57b1"
      },
      "execution_count": 12,
      "outputs": [
        {
          "output_type": "stream",
          "name": "stdout",
          "text": [
            "Broadcast error: operands could not be broadcast together with shapes (1,3) (1,2) \n"
          ]
        }
      ]
    },
    {
      "cell_type": "markdown",
      "source": [
        "## ✅ Summary\n",
        "- Broadcasting allows arithmetic on arrays of different shapes.\n",
        "- It saves memory and speeds up computation.\n",
        "- Mastering it avoids writing slow for-loops!\n",
        "\n",
        "Use `.reshape()` or `.expand_dims()` if manual adjustment is needed."
      ],
      "metadata": {
        "id": "IyTGUrY00HSH"
      }
    },
    {
      "cell_type": "markdown",
      "source": [
        "## 🔁 1. Reshaping Arrays\n",
        "Use `.reshape()` to change the shape of an array **without changing the data**."
      ],
      "metadata": {
        "id": "95GONJTN0TMf"
      }
    },
    {
      "cell_type": "code",
      "source": [
        "a = np.arange(12)        # 1D array of 12 elements\n",
        "print(\"Original:\", a)\n",
        "\n",
        "reshaped = a.reshape(3, 4)   # Reshape to 3 rows, 4 columns\n",
        "print(\"Reshaped (3x4):\\n\", reshaped)"
      ],
      "metadata": {
        "colab": {
          "base_uri": "https://localhost:8080/"
        },
        "id": "9wz2JSB00awx",
        "outputId": "cfba3fa6-7914-47bd-bdf2-8d6d726bf6fe"
      },
      "execution_count": 13,
      "outputs": [
        {
          "output_type": "stream",
          "name": "stdout",
          "text": [
            "Original: [ 0  1  2  3  4  5  6  7  8  9 10 11]\n",
            "Reshaped (3x4):\n",
            " [[ 0  1  2  3]\n",
            " [ 4  5  6  7]\n",
            " [ 8  9 10 11]]\n"
          ]
        }
      ]
    },
    {
      "cell_type": "markdown",
      "source": [
        "### ✅ Notes on `.reshape()`:\n",
        "- The **total number of elements must match**.\n",
        "- You can use `-1` to auto-calculate one dimension."
      ],
      "metadata": {
        "id": "q99tIYnw0gFv"
      }
    },
    {
      "cell_type": "code",
      "source": [
        "print(\"Auto reshape to 4 rows:\\n\", a.reshape(4, -1))  # 4 rows, auto columns"
      ],
      "metadata": {
        "colab": {
          "base_uri": "https://localhost:8080/"
        },
        "id": "W1DXXk2u03g1",
        "outputId": "c38bcf26-02e9-4bc2-a2c2-f06f29e2893c"
      },
      "execution_count": 14,
      "outputs": [
        {
          "output_type": "stream",
          "name": "stdout",
          "text": [
            "Auto reshape to 4 rows:\n",
            " [[ 0  1  2]\n",
            " [ 3  4  5]\n",
            " [ 6  7  8]\n",
            " [ 9 10 11]]\n"
          ]
        }
      ]
    },
    {
      "cell_type": "markdown",
      "source": [
        "## 📚 2. Stacking Arrays\n",
        "Combining multiple arrays into one using functions like `vstack`, `hstack`, and `concatenate`."
      ],
      "metadata": {
        "id": "d5Z8rNN3041j"
      }
    },
    {
      "cell_type": "code",
      "source": [
        "### 🔼 2.1 Vertical Stacking (`np.vstack`)\n",
        "#Stacks arrays **row-wise** (along axis=0).\n",
        "a = np.array([1, 2, 3])\n",
        "b = np.array([4, 5, 6])\n",
        "\n",
        "v_stacked = np.vstack((a, b))\n",
        "print(\"Vertical Stack:\\n\", v_stacked)"
      ],
      "metadata": {
        "colab": {
          "base_uri": "https://localhost:8080/"
        },
        "id": "DzUF1YKC079o",
        "outputId": "bc0d7c41-92d9-4755-822e-289bbfd72f2d"
      },
      "execution_count": 15,
      "outputs": [
        {
          "output_type": "stream",
          "name": "stdout",
          "text": [
            "Vertical Stack:\n",
            " [[1 2 3]\n",
            " [4 5 6]]\n"
          ]
        }
      ]
    },
    {
      "cell_type": "code",
      "source": [
        "### 🔁 2.2 Horizontal Stacking (`np.hstack`)\n",
        "#Stacks arrays **column-wise** (along axis=1).\n",
        "h_stacked = np.hstack((a, b))\n",
        "print(\"Horizontal Stack:\\n\", h_stacked)"
      ],
      "metadata": {
        "colab": {
          "base_uri": "https://localhost:8080/"
        },
        "id": "BbX2ljoS1F19",
        "outputId": "b834db63-2330-4b49-8eae-c3bba7de7855"
      },
      "execution_count": 16,
      "outputs": [
        {
          "output_type": "stream",
          "name": "stdout",
          "text": [
            "Horizontal Stack:\n",
            " [1 2 3 4 5 6]\n"
          ]
        }
      ]
    },
    {
      "cell_type": "code",
      "source": [
        "### 🔗 2.3 Generic Concatenation (`np.concatenate`)\n",
        "#Concatenates arrays along any axis.\n",
        "a = np.array([[1, 2], [3, 4]])\n",
        "b = np.array([[5, 6]])\n",
        "\n",
        "concat_result = np.concatenate((a, b), axis=0)\n",
        "print(\"Concatenate along axis=0:\\n\", concat_result)"
      ],
      "metadata": {
        "colab": {
          "base_uri": "https://localhost:8080/"
        },
        "id": "b3_MqzIM1J_M",
        "outputId": "0b2cb2ea-79fc-4947-eee1-b2dc78456ea0"
      },
      "execution_count": 17,
      "outputs": [
        {
          "output_type": "stream",
          "name": "stdout",
          "text": [
            "Concatenate along axis=0:\n",
            " [[1 2]\n",
            " [3 4]\n",
            " [5 6]]\n"
          ]
        }
      ]
    },
    {
      "cell_type": "markdown",
      "source": [
        "## ✂️ 3. Splitting Arrays\n",
        "Use `np.split()`, `np.hsplit()`, or `np.vsplit()` to divide arrays into parts."
      ],
      "metadata": {
        "id": "6XtVSv0q1TEb"
      }
    },
    {
      "cell_type": "code",
      "source": [
        "### 📏 3.1 `np.split()`\n",
        "#Split into equal-sized subarrays (or specify indices).\n",
        "a = np.arange(12).reshape(3, 4)\n",
        "print(\"Original:\\n\", a)\n",
        "\n",
        "split_result = np.split(a, 2, axis=1)  # Split into 2 equal parts column-wise\n",
        "print(\"Split result:\")\n",
        "for part in split_result:\n",
        "    print(part)"
      ],
      "metadata": {
        "colab": {
          "base_uri": "https://localhost:8080/"
        },
        "id": "EQ9ZrL9D1VqR",
        "outputId": "cf08da1f-33c9-4a74-c2f4-46537a08d064"
      },
      "execution_count": 18,
      "outputs": [
        {
          "output_type": "stream",
          "name": "stdout",
          "text": [
            "Original:\n",
            " [[ 0  1  2  3]\n",
            " [ 4  5  6  7]\n",
            " [ 8  9 10 11]]\n",
            "Split result:\n",
            "[[0 1]\n",
            " [4 5]\n",
            " [8 9]]\n",
            "[[ 2  3]\n",
            " [ 6  7]\n",
            " [10 11]]\n"
          ]
        }
      ]
    },
    {
      "cell_type": "code",
      "source": [
        "### 🔁 3.2 Horizontal Split (`np.hsplit`)\n",
        "#Splits along columns.\n",
        "print(\"Horizontal split:\\n\", np.hsplit(a, 2))"
      ],
      "metadata": {
        "colab": {
          "base_uri": "https://localhost:8080/"
        },
        "id": "4zyDsTph1kDl",
        "outputId": "80b56450-4654-4192-89c4-fbefed600f31"
      },
      "execution_count": 19,
      "outputs": [
        {
          "output_type": "stream",
          "name": "stdout",
          "text": [
            "Horizontal split:\n",
            " [array([[0, 1],\n",
            "       [4, 5],\n",
            "       [8, 9]]), array([[ 2,  3],\n",
            "       [ 6,  7],\n",
            "       [10, 11]])]\n"
          ]
        }
      ]
    },
    {
      "cell_type": "code",
      "source": [
        "### 🔼 3.3 Vertical Split (`np.vsplit`)\n",
        "#Splits along rows.\n",
        "print(\"Vertical split:\\n\", np.vsplit(a, 3))"
      ],
      "metadata": {
        "colab": {
          "base_uri": "https://localhost:8080/"
        },
        "id": "ZxOhWDFg1pQx",
        "outputId": "0916062f-be7a-43a1-b548-edf0dd313e1f"
      },
      "execution_count": 20,
      "outputs": [
        {
          "output_type": "stream",
          "name": "stdout",
          "text": [
            "Vertical split:\n",
            " [array([[0, 1, 2, 3]]), array([[4, 5, 6, 7]]), array([[ 8,  9, 10, 11]])]\n"
          ]
        }
      ]
    }
  ]
}