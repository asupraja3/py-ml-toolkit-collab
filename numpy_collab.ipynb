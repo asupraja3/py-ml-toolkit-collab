{
  "nbformat": 4,
  "nbformat_minor": 0,
  "metadata": {
    "colab": {
      "provenance": [],
      "mount_file_id": "1j0gGz6fInTjkaI4-khrvN8sKWwK2P8Gv",
      "authorship_tag": "ABX9TyMaMRZ4cWrgduZ6yIISu7P8",
      "include_colab_link": true
    },
    "kernelspec": {
      "name": "python3",
      "display_name": "Python 3"
    },
    "language_info": {
      "name": "python"
    }
  },
  "cells": [
    {
      "cell_type": "markdown",
      "metadata": {
        "id": "view-in-github",
        "colab_type": "text"
      },
      "source": [
        "<a href=\"https://colab.research.google.com/github/asupraja3/py-ml-toolkit-collab/blob/main/numpy_collab.ipynb\" target=\"_parent\"><img src=\"https://colab.research.google.com/assets/colab-badge.svg\" alt=\"Open In Colab\"/></a>"
      ]
    },
    {
      "cell_type": "code",
      "execution_count": 1,
      "metadata": {
        "colab": {
          "base_uri": "https://localhost:8080/"
        },
        "id": "coj6CD4StDSR",
        "outputId": "341760fc-093f-4e92-f76b-6d58705f12da"
      },
      "outputs": [
        {
          "output_type": "stream",
          "name": "stdout",
          "text": [
            "[1, 2, 3, 4, 5]\n",
            "1D Array\n",
            "[1 4 6 7 8]\n",
            "2D Array\n",
            "[[1 4 6 7 8]\n",
            " [7 8 9 6 6]]\n"
          ]
        }
      ],
      "source": [
        "import numpy as np\n",
        "lst = [1,2,3,4,5]\n",
        "print(lst)\n",
        "\n",
        "print('1D Array')\n",
        "a = np.array([1,4,6,7,8])\n",
        "print(a)\n",
        "\n",
        "print('2D Array')\n",
        "b = np.array([[1,4,6,7,8],[7,8,9,6,6]])\n",
        "print(b)"
      ]
    },
    {
      "cell_type": "code",
      "source": [
        "type(a) #n-dimensional array"
      ],
      "metadata": {
        "colab": {
          "base_uri": "https://localhost:8080/"
        },
        "id": "0mLWC-8tuydR",
        "outputId": "b99f5fd8-50b0-4c5b-cf9b-5483ae6aa6ac"
      },
      "execution_count": 2,
      "outputs": [
        {
          "output_type": "execute_result",
          "data": {
            "text/plain": [
              "numpy.ndarray"
            ]
          },
          "metadata": {},
          "execution_count": 2
        }
      ]
    },
    {
      "cell_type": "code",
      "source": [
        "#number of elements in the array\n",
        "print(a.size)\n",
        "print(b.size)"
      ],
      "metadata": {
        "colab": {
          "base_uri": "https://localhost:8080/"
        },
        "id": "YPKw3dHPu4aE",
        "outputId": "a440829d-c375-4d80-a182-6e8c879c5c25"
      },
      "execution_count": 3,
      "outputs": [
        {
          "output_type": "stream",
          "name": "stdout",
          "text": [
            "5\n",
            "10\n"
          ]
        }
      ]
    },
    {
      "cell_type": "code",
      "source": [
        "#rows and columns\n",
        "print(a.shape)\n",
        "print(b.shape)"
      ],
      "metadata": {
        "colab": {
          "base_uri": "https://localhost:8080/"
        },
        "id": "93lJRyh9vDZx",
        "outputId": "22c39c65-3067-4cdc-84c7-03fb29cf215f"
      },
      "execution_count": 4,
      "outputs": [
        {
          "output_type": "stream",
          "name": "stdout",
          "text": [
            "(5,)\n",
            "(2, 5)\n"
          ]
        }
      ]
    },
    {
      "cell_type": "code",
      "source": [
        "#type of data\n",
        "print(a.dtype)"
      ],
      "metadata": {
        "colab": {
          "base_uri": "https://localhost:8080/"
        },
        "id": "RWqBWcVdvNxA",
        "outputId": "30d0c4ca-dc3d-4459-b9e9-9c23b76edaf8"
      },
      "execution_count": 5,
      "outputs": [
        {
          "output_type": "stream",
          "name": "stdout",
          "text": [
            "int64\n"
          ]
        }
      ]
    },
    {
      "cell_type": "code",
      "source": [
        "#Transpose: row to columns, columns to rows\n",
        "print(b.transpose())"
      ],
      "metadata": {
        "colab": {
          "base_uri": "https://localhost:8080/"
        },
        "id": "KrE1cNO2vYpT",
        "outputId": "3f1c3e98-b0e2-43cb-b417-f7532189b890"
      },
      "execution_count": 7,
      "outputs": [
        {
          "output_type": "stream",
          "name": "stdout",
          "text": [
            "[[1 7]\n",
            " [4 8]\n",
            " [6 9]\n",
            " [7 6]\n",
            " [8 6]]\n"
          ]
        }
      ]
    },
    {
      "cell_type": "code",
      "source": [
        "#create an empty array\n",
        "a = np.empty((4,4),dtype=int)\n",
        "print(a) #Random 2-d array created"
      ],
      "metadata": {
        "colab": {
          "base_uri": "https://localhost:8080/"
        },
        "id": "TTbXMo6UwAGL",
        "outputId": "b1218e92-af3a-4cc9-9633-a27f89e4aaa5"
      },
      "execution_count": 10,
      "outputs": [
        {
          "output_type": "stream",
          "name": "stdout",
          "text": [
            "[[   449553625            0 489626271861 433791696995]\n",
            " [498216206368 468151435365 476741369968 416611827826]\n",
            " [450971566194 519691042924 502511173664 416611827822]\n",
            " [416611827830 463856468073 420906795105 433791697004]]\n"
          ]
        }
      ]
    },
    {
      "cell_type": "code",
      "source": [
        "#np.ones\n",
        "x = np.ones((3,5))\n",
        "print(x)\n",
        "x = np.ones((3,5),dtype = int)\n",
        "print(x)\n",
        "y= np.zeros(5)\n",
        "print(y)\n",
        "z = np.zeros((2,2), dtype=bool)\n",
        "print(z)"
      ],
      "metadata": {
        "colab": {
          "base_uri": "https://localhost:8080/"
        },
        "id": "Ng6hYzX1wUr0",
        "outputId": "c4eb28d4-2c39-4c32-c721-8180ee75fa9e"
      },
      "execution_count": 16,
      "outputs": [
        {
          "output_type": "stream",
          "name": "stdout",
          "text": [
            "[[1. 1. 1. 1. 1.]\n",
            " [1. 1. 1. 1. 1.]\n",
            " [1. 1. 1. 1. 1.]]\n",
            "[[1 1 1 1 1]\n",
            " [1 1 1 1 1]\n",
            " [1 1 1 1 1]]\n",
            "[0. 0. 0. 0. 0.]\n",
            "[[False False]\n",
            " [False False]]\n"
          ]
        }
      ]
    },
    {
      "cell_type": "code",
      "source": [
        "#A-Range\n",
        "a = np.arange(1,20,2)\n",
        "print(a)\n"
      ],
      "metadata": {
        "colab": {
          "base_uri": "https://localhost:8080/"
        },
        "id": "JzCDByP-0n1g",
        "outputId": "f1f52611-4686-40ad-db37-1b9941edc54f"
      },
      "execution_count": 17,
      "outputs": [
        {
          "output_type": "stream",
          "name": "stdout",
          "text": [
            "[ 1  3  5  7  9 11 13 15 17 19]\n"
          ]
        }
      ]
    }
  ]
}